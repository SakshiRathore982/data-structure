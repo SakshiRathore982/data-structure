{
  "nbformat": 4,
  "nbformat_minor": 0,
  "metadata": {
    "colab": {
      "name": "Untitled11.ipynb",
      "provenance": []
    },
    "kernelspec": {
      "name": "python3",
      "display_name": "Python 3"
    }
  },
  "cells": [
    {
      "cell_type": "code",
      "metadata": {
        "colab": {
          "base_uri": "https://localhost:8080/"
        },
        "id": "cDp0Wt4bpRZW",
        "outputId": "181c15d0-7dfc-4252-9cb4-354d3e1ff7da"
      },
      "source": [
        "from collections import defaultdict\r\n",
        "class graph:\r\n",
        "  def __init__(self,vertices,edges):\r\n",
        "    self.ver=vertices\r\n",
        "    self.ed=edges\r\n",
        "    self.graph=defaultdict(list)\r\n",
        "  \r\n",
        "  def addEd(self,ver1,ver2):\r\n",
        "    if len(self.graph) <= self.ed:\r\n",
        "      self.graph[ver1].append(ver2)\r\n",
        "      self.graph[ver2].append(ver1)\r\n",
        "    else:\r\n",
        "      print(\"for this vertices and edges graph is not feasible !\")\r\n",
        "  \r\n",
        "  def print(self):\r\n",
        "    for i in self.graph:\r\n",
        "      print(i,\" : \",self.graph[i]);\r\n",
        "  \r\n",
        "\r\n",
        "\r\n",
        "g=graph(5,5)\r\n",
        "g.addEd(1,2)\r\n",
        "g.addEd(2,5)\r\n",
        "g.addEd(5,4)\r\n",
        "g.addEd(4,1)\r\n",
        "g.addEd(4,3)\r\n",
        "g.print()"
      ],
      "execution_count": 6,
      "outputs": [
        {
          "output_type": "stream",
          "text": [
            "1  :  [2, 4]\n",
            "2  :  [1, 5]\n",
            "5  :  [2, 4]\n",
            "4  :  [5, 1, 3]\n",
            "3  :  [4]\n"
          ],
          "name": "stdout"
        }
      ]
    },
    {
      "cell_type": "code",
      "metadata": {
        "colab": {
          "base_uri": "https://localhost:8080/"
        },
        "id": "sBgttmQUya6Z",
        "outputId": "466be460-58f5-42e9-e358-b32940ffa593"
      },
      "source": [
        "from collections import defaultdict\r\n",
        "class graph:\r\n",
        "  def __init__(self):\r\n",
        "    self.graph=defaultdict(list)\r\n",
        "\r\n",
        "  def addEnd(self,u,v):\r\n",
        "    self.graph[u].append(v)\r\n",
        "    self.graph[v].append(u)\r\n",
        "  \r\n",
        "  def dfs(self,s):\r\n",
        "    visited=set()\r\n",
        "    self.traversal(s,visited)\r\n",
        "\r\n",
        "  def traversal(self,vertex,visited):\r\n",
        "    visited.add(vertex)\r\n",
        "    print(vertex,end=\" \")\r\n",
        "\r\n",
        "    for i in self.graph[vertex]:\r\n",
        "      if i not in visited:\r\n",
        "        self.traversal(i,visited)\r\n",
        "\r\n",
        "\r\n",
        "g=graph()\r\n",
        "g.addEnd(0,1)\r\n",
        "g.addEnd(0,2)\r\n",
        "g.addEnd(1,4)\r\n",
        "g.addEnd(1,3)\r\n",
        "g.addEnd(1,2)\r\n",
        "g.addEnd(3,5)\r\n",
        "g.addEnd(5,6)\r\n",
        "g.addEnd(5,7)\r\n",
        "g.addEnd(5,8)\r\n",
        "g.addEnd(8,9)\r\n",
        "g.addEnd(7,8)\r\n",
        "\r\n",
        "g.dfs(0)"
      ],
      "execution_count": 16,
      "outputs": [
        {
          "output_type": "stream",
          "text": [
            "0 1 4 3 5 6 7 8 9 2 "
          ],
          "name": "stdout"
        }
      ]
    }
  ]
}