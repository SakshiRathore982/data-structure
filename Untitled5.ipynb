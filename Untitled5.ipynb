{
  "nbformat": 4,
  "nbformat_minor": 0,
  "metadata": {
    "colab": {
      "name": "Untitled5.ipynb",
      "provenance": []
    },
    "kernelspec": {
      "name": "python3",
      "display_name": "Python 3"
    }
  },
  "cells": [
    {
      "cell_type": "code",
      "metadata": {
        "colab": {
          "base_uri": "https://localhost:8080/"
        },
        "id": "aR38xzAkJvht",
        "outputId": "1ed0b1d5-a8f6-4a7e-f295-4674a63fec12"
      },
      "source": [
        "import array as ar\r\n",
        "n=int(input(\"enter the length of array\\n\"))\r\n",
        "A=ar.array('i',[])\r\n",
        "print(\"enter the element in array : \")\r\n",
        "for i in range(0,n):\r\n",
        "  ele=int(input())\r\n",
        "  A.insert(i,ele)\r\n",
        "max=int(0)\r\n",
        "for i in range(0,n):\r\n",
        "  if max<A[i]:\r\n",
        "    max=A[i]\r\n",
        "print(\"The largest element in array : \",max)\r\n",
        "min=A[0]\r\n",
        "for i in range(0,n):\r\n",
        "  if A[i]<min:\r\n",
        "    min=A[i]\r\n",
        "print(\"The Smallest element in array : \",min)\r\n"
      ],
      "execution_count": null,
      "outputs": [
        {
          "output_type": "stream",
          "text": [
            "enter the length of array\n",
            "6\n",
            "enter the element in array : \n",
            "5\n",
            "1\n",
            "7\n",
            "12\n",
            "23\n",
            "43\n",
            "The largest element in array :  43\n",
            "The Smallest element in array :  1\n"
          ],
          "name": "stdout"
        }
      ]
    },
    {
      "cell_type": "code",
      "metadata": {
        "colab": {
          "base_uri": "https://localhost:8080/"
        },
        "id": "woX-huUyPUG6",
        "outputId": "5cf13da8-3baf-4d0e-ece8-4db360fdfa73"
      },
      "source": [
        "import array as arr\r\n",
        "\r\n",
        "n1=int(input(\"enter the length of First array \\n\"))\r\n",
        "A1=arr.array('i',[])\r\n",
        "print(\"enter the element in First array : \")\r\n",
        "for i in range(0,n1):\r\n",
        "  ele=int(input())\r\n",
        "  A1.insert(i,ele)\r\n",
        "n2=int(input(\"enter the length of Second array \\n\"))\r\n",
        "A2=arr.array('i',[])\r\n",
        "print(\"enter the element in Second array : \")\r\n",
        "for i in range(0,n2):\r\n",
        "  ele=int(input())\r\n",
        "  A2.insert(i,ele)\r\n",
        "print()\r\n",
        "print(\"Intersection of two Array is : \")\r\n",
        "for i in A1:\r\n",
        "  if i in A2:\r\n",
        "    print(i,end=\" \")\r\n"
      ],
      "execution_count": null,
      "outputs": [
        {
          "output_type": "stream",
          "text": [
            "enter the length of First array \n",
            "4\n",
            "enter the element in First array : \n",
            "12\n",
            "3\n",
            "11\n",
            "17\n",
            "enter the length of Second array \n",
            "5\n",
            "enter the element in Second array : \n",
            "10\n",
            "9\n",
            "12\n",
            "11\n",
            "3\n",
            "\n",
            "Intersection of two Array is : \n",
            "12 3 11 "
          ],
          "name": "stdout"
        }
      ]
    }
  ]
}