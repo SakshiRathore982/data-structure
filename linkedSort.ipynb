{
  "nbformat": 4,
  "nbformat_minor": 0,
  "metadata": {
    "colab": {
      "name": "Untitled8.ipynb",
      "provenance": [],
      "collapsed_sections": []
    },
    "kernelspec": {
      "name": "python3",
      "display_name": "Python 3"
    }
  },
  "cells": [
    {
      "cell_type": "code",
      "metadata": {
        "colab": {
          "base_uri": "https://localhost:8080/"
        },
        "id": "UY0WTAFgQeH5",
        "outputId": "505ef4cb-af75-4a9e-dd9b-a03a53e3ee7d"
      },
      "source": [
        "class Node:\r\n",
        "  def __init__(self,val):\r\n",
        "    self.val=val\r\n",
        "    self.next=None\r\n",
        "\r\n",
        "class linked:\r\n",
        "  def __init__(self):\r\n",
        "    self.head=None\r\n",
        "  \r\n",
        "  def adBegin(self,val):\r\n",
        "    new=Node(val)\r\n",
        "    new.next=self.head\r\n",
        "    self.head=new\r\n",
        "    \r\n",
        "  def adend(self,val):\r\n",
        "    new=Node(val)\r\n",
        "    if self.head is None:\r\n",
        "      self.head=new\r\n",
        "    else:\r\n",
        "      temp=self.head\r\n",
        "      while temp.next is not None:\r\n",
        "        temp=temp.next\r\n",
        "      temp.next=new\r\n",
        "\r\n",
        "  \r\n",
        "  def display(self):\r\n",
        "    temp=self.head\r\n",
        "    while temp.next is not None:\r\n",
        "      print(temp.val,end=\" \")\r\n",
        "      temp=temp.next\r\n",
        "    print(temp.val,end=\"\\n\")\r\n",
        "    \r\n",
        "  def linksort(self):\r\n",
        "   if self.head is None:\r\n",
        "     return \r\n",
        "   else:\r\n",
        "     temp=self.head\r\n",
        "     l=[]\r\n",
        "     while(temp):\r\n",
        "       l.append(temp.val)\r\n",
        "       temp=temp.next\r\n",
        "     for i in range(0,len(l)):\r\n",
        "       for j in range(0,len(l)-i-1):\r\n",
        "         if(l[j] > l[j+1]):\r\n",
        "           l[j],l[j+1] = l[j+1],l[j]\r\n",
        "     print(l)\r\n",
        "     i=0\r\n",
        "     temp=self.head\r\n",
        "     while(temp):\r\n",
        "       temp.val=l[i]\r\n",
        "       i=i+11\r\n",
        "       temp=temp.next\r\n",
        "\r\n",
        "# implementation part\r\n",
        "n = int(input(\"enter the total ele want to insert: \"))\r\n",
        "l=linked()\r\n",
        "print(\"enter the ele : \")\r\n",
        "for i in range(0,n):\r\n",
        "  ele=int(input())\r\n",
        "  l.adend(ele)\r\n",
        "l.linksort()\r\n",
        "l.display()\r\n",
        "\r\n",
        "\r\n",
        "\r\n",
        "\r\n",
        "\r\n",
        "\r\n",
        "\r\n",
        "\r\n",
        "\r\n"
      ],
      "execution_count": 44,
      "outputs": [
        {
          "output_type": "stream",
          "text": [
            "enter the total ele want to insert: 5\n",
            "enter the ele : \n",
            "7\n",
            "4\n",
            "1\n",
            "9\n",
            "2\n",
            "[1, 2, 4, 7, 9]\n",
            "1 2 4 7 9\n"
          ],
          "name": "stdout"
        }
      ]
    },
    {
      "cell_type": "code",
      "metadata": {
        "colab": {
          "base_uri": "https://localhost:8080/"
        },
        "id": "EEhrymue1kQw",
        "outputId": "c3249c85-c054-4a3b-a8b4-5ecfcfceed66"
      },
      "source": [
        "l=[1,2,3]\r\n",
        "print(len(l))"
      ],
      "execution_count": 34,
      "outputs": [
        {
          "output_type": "stream",
          "text": [
            "3\n"
          ],
          "name": "stdout"
        }
      ]
    }
  ]
}