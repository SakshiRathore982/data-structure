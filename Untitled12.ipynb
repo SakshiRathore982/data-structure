{
  "nbformat": 4,
  "nbformat_minor": 0,
  "metadata": {
    "colab": {
      "name": "Untitled12.ipynb",
      "provenance": [],
      "collapsed_sections": []
    },
    "kernelspec": {
      "name": "python3",
      "display_name": "Python 3"
    }
  },
  "cells": [
    {
      "cell_type": "code",
      "metadata": {
        "colab": {
          "base_uri": "https://localhost:8080/"
        },
        "id": "YrxFtrFvxptj",
        "outputId": "662bcb65-153d-4a0c-a37e-c9cab2febc50"
      },
      "source": [
        "import sys\r\n",
        "class graph:\r\n",
        "  def __init__(self,vertices):\r\n",
        "    self.ver=vertices\r\n",
        "    self.graph= [[0 for col in range(vertices)] for row in range(vertices)]\r\n",
        "  \r\n",
        "  def minV(self,dis,visited):\r\n",
        "    minver=sys.maxsize\r\n",
        "    for i in range(self.ver):\r\n",
        "      if dis[i]<minver and visited[i]==False:\r\n",
        "        minver=dis[i]\r\n",
        "        index=i\r\n",
        "    return index\r\n",
        "\r\n",
        "  def display(self,s,d):\r\n",
        "    print(\"min path cost from source to another : \")\r\n",
        "    for i in range(self.ver):\r\n",
        "      print(s,\" -> \",i,\" = \",d[i])\r\n",
        "\r\n",
        "\r\n",
        "  def difstra(self,source):\r\n",
        "    distance=[sys.maxsize]*self.ver\r\n",
        "    visited=[False]*self.ver\r\n",
        "    distance[0]=0\r\n",
        "    for i in range(self.ver):\r\n",
        "      minver=self.minV(distance,visited)\r\n",
        "      visited[minver]=True\r\n",
        "\r\n",
        "      for v in range(self.ver):\r\n",
        "        if self.graph[minver][v]>0 and visited[v]==False and distance[v]> self.graph[minver][v]+distance[minver]:\r\n",
        "          distance[v]=self.graph[minver][v]+distance[minver]\r\n",
        "    self.display(source,distance)\r\n",
        "\r\n",
        "#dirver code \r\n",
        "g = graph(9) \r\n",
        "g.graph = [[0, 4, 0, 0, 0, 0, 0, 8, 0], \r\n",
        "        [4, 0, 8, 0, 0, 0, 0, 11, 0], \r\n",
        "        [0, 8, 0, 7, 0, 4, 0, 0, 2], \r\n",
        "        [0, 0, 7, 0, 9, 14, 0, 0, 0], \r\n",
        "        [0, 0, 0, 9, 0, 10, 0, 0, 0], \r\n",
        "        [0, 0, 4, 14, 10, 0, 2, 0, 0], \r\n",
        "        [0, 0, 0, 0, 0, 2, 0, 1, 6], \r\n",
        "        [8, 11, 0, 0, 0, 0, 1, 0, 7], \r\n",
        "        [0, 0, 2, 0, 0, 0, 6, 7, 0] \r\n",
        "        ];\r\n",
        "g.difstra(0)\r\n"
      ],
      "execution_count": 1,
      "outputs": [
        {
          "output_type": "stream",
          "text": [
            "min path cost from source to another : \n",
            "0  ->  0  =  0\n",
            "0  ->  1  =  4\n",
            "0  ->  2  =  12\n",
            "0  ->  3  =  19\n",
            "0  ->  4  =  21\n",
            "0  ->  5  =  11\n",
            "0  ->  6  =  9\n",
            "0  ->  7  =  8\n",
            "0  ->  8  =  14\n"
          ],
          "name": "stdout"
        }
      ]
    },
    {
      "cell_type": "code",
      "metadata": {
        "colab": {
          "base_uri": "https://localhost:8080/"
        },
        "id": "GFYMUlhL4q6O",
        "outputId": "56804c3b-4bab-4723-9c1f-08d9f3e5b8b4"
      },
      "source": [
        "import sys\r\n",
        "class graph:\r\n",
        "  def __init__(self,vertices):\r\n",
        "    self.ver=vertices\r\n",
        "    self.graph= [[0 for col in range(vertices)] for row in range(vertices)]\r\n",
        "  \r\n",
        "  def printMST(self,parent):\r\n",
        "    for i in range(self.ver):\r\n",
        "      print(parent[i],\"-\",i,\"  \",self.graph[i][parent[i]] )\r\n",
        "\r\n",
        "  def minindex(self,vertex,visited):\r\n",
        "    min=sys.maxsize\r\n",
        "    for i in range(self.ver):\r\n",
        "      if min>vertex[i] and visited[i]==False:\r\n",
        "        min=vertex[i]\r\n",
        "        index=i\r\n",
        "    return index\r\n",
        "\r\n",
        "  def prims(self,source):\r\n",
        "    vertex=[sys.maxsize]*self.ver\r\n",
        "    parent=[0]*self.ver\r\n",
        "    vertex[0]=0\r\n",
        "    visited=[False]*self.ver\r\n",
        "    parent[0]=-1\r\n",
        "\r\n",
        "    for i in range(self.ver):\r\n",
        "      minv=self.minindex(vertex,visited)\r\n",
        "      visited[minv]=True\r\n",
        "       \r\n",
        "      for i in range(self.ver):\r\n",
        "        if visited[i]==False and self.graph[minv][i]>0 and vertex[i]>self.graph[minv][i]:\r\n",
        "          vertex[i]=self.graph[minv][i]\r\n",
        "          parent[i]=minv\r\n",
        "\r\n",
        "    self.printMST(parent)\r\n",
        "\r\n",
        "g = graph(5)\r\n",
        "g.graph = [ [0, 4, 8, 0, 0],\r\n",
        "                [4, 0, 2, 6, 0],\r\n",
        "                [8, 2, 0, 3, 9],\r\n",
        "                [0, 6, 3, 0, 5],\r\n",
        "                [0, 0, 9, 5, 0] ]\r\n",
        "g.prims(0)\r\n"
      ],
      "execution_count": 9,
      "outputs": [
        {
          "output_type": "stream",
          "text": [
            "-1 - 0    0\n",
            "0 - 1    4\n",
            "1 - 2    2\n",
            "2 - 3    3\n",
            "3 - 4    5\n"
          ],
          "name": "stdout"
        }
      ]
    }
  ]
}