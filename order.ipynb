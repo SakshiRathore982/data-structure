{
  "nbformat": 4,
  "nbformat_minor": 0,
  "metadata": {
    "colab": {
      "name": "Untitled7.ipynb",
      "provenance": []
    },
    "kernelspec": {
      "name": "python3",
      "display_name": "Python 3"
    }
  },
  "cells": [
    {
      "cell_type": "code",
      "metadata": {
        "colab": {
          "base_uri": "https://localhost:8080/"
        },
        "id": "d9P1i8mRP90j",
        "outputId": "20617b0c-6cea-40bb-ddeb-713c5f223387"
      },
      "source": [
        "class Node:\r\n",
        "  def __init__(self,key):\r\n",
        "    self.key=key\r\n",
        "    self.left=None\r\n",
        "    self.right=None\r\n",
        "def inOrder(node):\r\n",
        "    if(node):\r\n",
        "        inOrder(node.left)\r\n",
        "        print(node.key, end = \" \")\r\n",
        "        inOrder(node.right)\r\n",
        "\r\n",
        "def preOrder(node):\r\n",
        "    if(node):\r\n",
        "        print(node.key, end = \" \")\r\n",
        "        preOrder(node.left)\r\n",
        "        preOrder(node.right)\r\n",
        "def postOrder(node):\r\n",
        "    if(node):\r\n",
        "        postOrder(node.left)\r\n",
        "        postOrder(node.right)\r\n",
        "        print(node.key, end = \" \")\r\n",
        "        \r\n",
        "def insert(root,key):\r\n",
        "  if root is None:\r\n",
        "    return Node(key)\r\n",
        "  else:\r\n",
        "    if key < root.key:\r\n",
        "      root.left=insert(root.left,key)\r\n",
        "    elif key > root.key:\r\n",
        "      root.right=insert(root.right,key)\r\n",
        "    else:\r\n",
        "      return root\r\n",
        "  return root\r\n",
        "\r\n",
        "# implementation part :\r\n",
        "post=[7,11,14,23,25,22,10]\r\n",
        "root=Node(post[-1])\r\n",
        "for i in post:\r\n",
        "  root=insert(root,i)\r\n",
        "print(\"post=[7,11,14,23,25,22,10]\",end=\"\\n\")\r\n",
        "print(\"inorder traversal from post order:\",end=\" \")\r\n",
        "inOrder(root)\r\n",
        "print()\r\n",
        "\r\n",
        "print(\"preorder traversal from post order:\",end=\" \")\r\n",
        "preOrder(root)\r\n",
        "print()\r\n",
        "pre=[10,7,11,14,23,22,25]\r\n",
        "root=Node(pre[0])\r\n",
        "for i in pre:\r\n",
        "  root=insert(root,i)\r\n",
        "print(\"pre=[10,7,11,14,23,22,25]\",end=\"\\n\")\r\n",
        "print(\"inorder traversal from pre order:\",end=\" \")\r\n",
        "inOrder(root)\r\n",
        "print()\r\n",
        "\r\n",
        "print(\"postorder traversal from pre order:\",end=\" \")\r\n",
        "postOrder(root)\r\n",
        "\r\n",
        "\r\n",
        "\r\n"
      ],
      "execution_count": 2,
      "outputs": [
        {
          "output_type": "stream",
          "text": [
            "post=[7,11,14,23,25,22,10]\n",
            "inorder traversal from post order: 7 10 11 14 22 23 25 \n",
            "preorder traversal from post order: 10 7 11 14 23 22 25 \n",
            "pre=[10,7,11,14,23,22,25]\n",
            "inorder traversal from pre order: 7 10 11 14 22 23 25 \n",
            "postorder traversal from pre order: 7 22 25 23 14 11 10 "
          ],
          "name": "stdout"
        }
      ]
    }
  ]
}