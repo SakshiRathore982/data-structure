{
  "nbformat": 4,
  "nbformat_minor": 0,
  "metadata": {
    "colab": {
      "name": "GridTraveller.ipynb",
      "provenance": [],
      "collapsed_sections": []
    },
    "kernelspec": {
      "name": "python3",
      "display_name": "Python 3"
    }
  },
  "cells": [
    {
      "cell_type": "code",
      "metadata": {
        "colab": {
          "base_uri": "https://localhost:8080/"
        },
        "id": "4v1pMrVD06ll",
        "outputId": "b5554999-920b-470c-9e1c-d2eaa7d7842e"
      },
      "source": [
        "def grid(n,m):\r\n",
        "  if n==0 or m==0:\r\n",
        "    return 0\r\n",
        "  if m==1 and n==1:\r\n",
        "    return 1\r\n",
        "  return grid(n,m-1) + grid(n-1,m)\r\n",
        "\r\n",
        "print(grid(2,3))\r\n",
        "print(grid(5,5))\r\n",
        "# print(grid(20,20)) this line have worst time complexity due to recursion call but do this with dynamic programming"
      ],
      "execution_count": 1,
      "outputs": [
        {
          "output_type": "stream",
          "text": [
            "3\n",
            "70\n"
          ],
          "name": "stdout"
        }
      ]
    },
    {
      "cell_type": "code",
      "metadata": {
        "colab": {
          "base_uri": "https://localhost:8080/"
        },
        "id": "7wlv9gjU2BU4",
        "outputId": "8177bf7f-9dd5-474d-87ba-ed90ea336c29"
      },
      "source": [
        "# Using Dynamic Programming !\r\n",
        "def grid(n,m,memo={ }):\r\n",
        "  key=str(m)+\",\"+str(n)\r\n",
        "  if key in memo:\r\n",
        "    return memo[key]\r\n",
        "  if n==0 or m==0:\r\n",
        "    return 0\r\n",
        "  if m==1 and n==1:\r\n",
        "    return 1\r\n",
        "  memo[key] = grid(n-1,m,memo) + grid(n,m-1,memo)\r\n",
        "  return memo[key]\r\n",
        "\r\n",
        "print(grid(2,3))\r\n",
        "print(grid(5,5))\r\n",
        "print(grid(10,10))\r\n"
      ],
      "execution_count": 7,
      "outputs": [
        {
          "output_type": "stream",
          "text": [
            "3\n",
            "70\n",
            "48620\n"
          ],
          "name": "stdout"
        }
      ]
    }
  ]
}