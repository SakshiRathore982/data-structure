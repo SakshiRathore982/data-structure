{
  "nbformat": 4,
  "nbformat_minor": 0,
  "metadata": {
    "colab": {
      "name": "Untitled4.ipynb",
      "provenance": [],
      "collapsed_sections": []
    },
    "kernelspec": {
      "name": "python3",
      "display_name": "Python 3"
    }
  },
  "cells": [
    {
      "cell_type": "code",
      "metadata": {
        "id": "BuWhYZ8FLANO",
        "colab": {
          "base_uri": "https://localhost:8080/"
        },
        "outputId": "e005ccee-d0f9-41a8-e273-7bd897cefd9c"
      },
      "source": [
        "def binary(data,n,x):\r\n",
        "  mid=int(0);\r\n",
        "  st=int(0);\r\n",
        "  end=int(n-1);\r\n",
        "  while(st<=end):\r\n",
        "    mid =(st+end)//2\r\n",
        "    if data[mid]==x:\r\n",
        "      return mid\r\n",
        "    if data[mid]<x:\r\n",
        "      st=mid+1\r\n",
        "    else:\r\n",
        "        end=mid-1\r\n",
        "  return -1\r\n",
        "    \r\n",
        "\r\n",
        "\r\n",
        "import array as arr\r\n",
        "data=arr.array('i',[])\r\n",
        "n = int(input(\"enter the size of list\"))\r\n",
        "i =int(0)\r\n",
        "for i in range(0,n):\r\n",
        "  new=int(input())\r\n",
        "  data.insert(i,new)\r\n",
        "print()\r\n",
        "for i in data:\r\n",
        "  print(i,end=\" \")\r\n",
        "print()\r\n",
        "y=\"y\"\r\n",
        "while(y==\"Y\" or y=='y'):\r\n",
        "  x=int(input(\"enter the number to be searched:\"))\r\n",
        "  a=int(0)\r\n",
        "  a=binary(data,n,x)\r\n",
        "  print(\"found at \",a+1,\"position\")\r\n",
        "  y=input(\"you you want to search more in array press Y/N\")\r\n",
        "\r\n"
      ],
      "execution_count": 24,
      "outputs": [
        {
          "output_type": "stream",
          "text": [
            "enter the size of list5\n",
            "11\n",
            "12\n",
            "23\n",
            "31\n",
            "43\n",
            "\n",
            "11 12 23 31 43 \n",
            "enter the number to be searched:31\n",
            "found at  4 position\n",
            "you you want to search more in array press Y/Ny\n",
            "enter the number to be searched:43\n",
            "found at  5 position\n",
            "you you want to search more in array press Y/Nn\n"
          ],
          "name": "stdout"
        }
      ]
    },
    {
      "cell_type": "code",
      "metadata": {
        "id": "JLPd4jdnKqcz"
      },
      "source": [
        ""
      ],
      "execution_count": null,
      "outputs": []
    },
    {
      "cell_type": "code",
      "metadata": {
        "colab": {
          "base_uri": "https://localhost:8080/"
        },
        "id": "tJ_k22p4DlCm",
        "outputId": "f5d53e4e-05d9-4583-fde2-df66def3d006"
      },
      "source": [
        "mid=(2+6)//2\r\n",
        "print(mid)"
      ],
      "execution_count": 19,
      "outputs": [
        {
          "output_type": "stream",
          "text": [
            "4\n"
          ],
          "name": "stdout"
        }
      ]
    },
    {
      "cell_type": "code",
      "metadata": {
        "colab": {
          "base_uri": "https://localhost:8080/"
        },
        "id": "kT9RmbzN7XyG",
        "outputId": "aa8c4ba7-f078-41a5-8bbc-24fbe50850fa"
      },
      "source": [
        "x=5/2\r\n",
        "print(2)"
      ],
      "execution_count": 14,
      "outputs": [
        {
          "output_type": "stream",
          "text": [
            "2\n"
          ],
          "name": "stdout"
        }
      ]
    },
    {
      "cell_type": "code",
      "metadata": {
        "id": "1FCkfPwFqkMg",
        "colab": {
          "base_uri": "https://localhost:8080/"
        },
        "outputId": "904e71b7-053e-441b-ff0c-d81155d2ab3c"
      },
      "source": [
        "  \r\n"
      ],
      "execution_count": null,
      "outputs": [
        {
          "output_type": "stream",
          "text": [
            "9\n",
            "1 1 2 3 4 5 5 5 5 \n",
            "5\n"
          ],
          "name": "stdout"
        }
      ]
    },
    {
      "cell_type": "code",
      "metadata": {
        "colab": {
          "base_uri": "https://localhost:8080/"
        },
        "id": "tRoRI9dxWLKk",
        "outputId": "16e5d5f2-c574-46ff-8fe7-18f8b77516b0"
      },
      "source": [
        "i=4\r\n",
        "for i in range(4,0,-1):\r\n",
        "  print(i)\r\n",
        "a=arr.array('i',[])\r\n",
        "for i in range(0,6):\r\n",
        "  a.insert(i,1)\r\n",
        "for i in a:\r\n",
        "  print(i)"
      ],
      "execution_count": null,
      "outputs": [
        {
          "output_type": "stream",
          "text": [
            "4\n",
            "3\n",
            "2\n",
            "1\n",
            "1\n",
            "1\n",
            "1\n",
            "1\n",
            "1\n",
            "1\n"
          ],
          "name": "stdout"
        }
      ]
    }
  ]
}