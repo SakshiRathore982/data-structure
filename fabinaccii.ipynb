{
  "nbformat": 4,
  "nbformat_minor": 0,
  "metadata": {
    "colab": {
      "name": "fabinaccii.ipynb",
      "provenance": [],
      "collapsed_sections": []
    },
    "kernelspec": {
      "name": "python3",
      "display_name": "Python 3"
    }
  },
  "cells": [
    {
      "cell_type": "code",
      "metadata": {
        "id": "WNekKh8etfBl",
        "colab": {
          "base_uri": "https://localhost:8080/"
        },
        "outputId": "408ff4af-fb98-4a8b-e1ae-19ed48985cc7"
      },
      "source": [
        "# Using Dynamic Programming\r\n",
        "def fab(n,memo={ }):\r\n",
        "  if n in memo:\r\n",
        "    return memo[n]\r\n",
        "  if n<=2:\r\n",
        "    return 1\r\n",
        "  memo[n] = fab(n-1,memo) + fab(n-2,memo)\r\n",
        "  return memo[n]\r\n",
        "\r\n",
        "print(fab(6))\r\n",
        "print(fab(5))\r\n",
        "print(fab(50))"
      ],
      "execution_count": 7,
      "outputs": [
        {
          "output_type": "stream",
          "text": [
            "8\n",
            "5\n",
            "12586269025\n"
          ],
          "name": "stdout"
        }
      ]
    },
    {
      "cell_type": "code",
      "metadata": {
        "colab": {
          "base_uri": "https://localhost:8080/"
        },
        "id": "M6AkNKEky7FN",
        "outputId": "357fa24d-a195-4be2-cdfd-7fc41d446a97"
      },
      "source": [
        "def fab(n):\r\n",
        "  if n<=2:\r\n",
        "    return 1\r\n",
        "  else:\r\n",
        "    return fab(n-1) + fab(n-2)\r\n",
        "\r\n",
        "print(fab(6))\r\n",
        "print(fab(10))\r\n",
        "\r\n",
        "#print(fab(50)) I comment this because time complexity of \r\n",
        "#this recursion call is very larger which not possible"
      ],
      "execution_count": 18,
      "outputs": [
        {
          "output_type": "stream",
          "text": [
            "8\n",
            "55\n"
          ],
          "name": "stdout"
        }
      ]
    }
  ]
}